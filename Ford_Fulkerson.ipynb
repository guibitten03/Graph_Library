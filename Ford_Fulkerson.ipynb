{
  "nbformat": 4,
  "nbformat_minor": 0,
  "metadata": {
    "colab": {
      "provenance": [],
      "collapsed_sections": []
    },
    "kernelspec": {
      "name": "python3",
      "display_name": "Python 3"
    },
    "language_info": {
      "name": "python"
    }
  },
  "cells": [
    {
      "cell_type": "code",
      "execution_count": null,
      "metadata": {
        "colab": {
          "base_uri": "https://localhost:8080/"
        },
        "id": "Px3Z8ptcsfSj",
        "outputId": "363e9111-8495-4f58-f8e1-cb9f30171ae8"
      },
      "outputs": [
        {
          "output_type": "stream",
          "name": "stdout",
          "text": [
            "Looking in indexes: https://pypi.org/simple, https://us-python.pkg.dev/colab-wheels/public/simple/\n",
            "Collecting igraph\n",
            "  Downloading igraph-0.10.2-cp37-cp37m-manylinux_2_17_x86_64.manylinux2014_x86_64.whl (3.2 MB)\n",
            "\u001b[K     |████████████████████████████████| 3.2 MB 5.2 MB/s \n",
            "\u001b[?25hCollecting texttable>=1.6.2\n",
            "  Downloading texttable-1.6.4-py2.py3-none-any.whl (10 kB)\n",
            "Installing collected packages: texttable, igraph\n",
            "Successfully installed igraph-0.10.2 texttable-1.6.4\n"
          ]
        }
      ],
      "source": [
        "!pip install igraph"
      ]
    },
    {
      "cell_type": "code",
      "source": [
        "import igraph as ig\n",
        "import matplotlib.pyplot as plt\n",
        "import numpy as np"
      ],
      "metadata": {
        "id": "ut8T2tNysq5D"
      },
      "execution_count": null,
      "outputs": []
    },
    {
      "cell_type": "code",
      "source": [
        "graph = ig.Graph([(0,1),(0,3),(1,2),(2,5),(3,4),(3,2),(4,5)], directed = True)\n",
        "\n",
        "graph.es()['custo'] = [20,10,30,20,15,10,20]\n",
        "\n",
        "graph.es()['weight'] = [50,40,60,30,60,70,50]\n",
        "\n",
        "graph.vs()['nome'] = ['s', 'a', 'b', 'c', 'd','t']\n",
        "\n",
        "ig.plot(graph, target=plt.axes())\n",
        "plt.axis('off')\n",
        "plt.show()"
      ],
      "metadata": {
        "colab": {
          "base_uri": "https://localhost:8080/",
          "height": 248
        },
        "id": "VwodOI9-f5ub",
        "outputId": "28f3acdd-bdf5-41e9-a60e-9e76c1f33ab5"
      },
      "execution_count": null,
      "outputs": [
        {
          "output_type": "display_data",
          "data": {
            "text/plain": [
              "<Figure size 432x288 with 1 Axes>"
            ],
            "image/png": "[encoded data removed]"
          },
          "metadata": {}
        }
      ]
    },
    {
      "cell_type": "code",
      "source": [
        "def ford_fulkerson(f_graph, source, target):\n",
        "  graph = f_graph.copy()\n",
        "  while(len(graph.get_all_simple_paths(v = source, to = target)) > 0): # Se a distancia retornar inf, para\n",
        "    path = graph.get_all_simple_paths(v = source, to = target)[0] # Usar o bellman\n",
        "    edges = [(path[x], path[x+1]) for x in range(len(path) - 1)]\n",
        "\n",
        "    min_flux = np.inf; min_edge = tuple()\n",
        "    for edge in edges:\n",
        "      if min_flux > graph.es().select(_source = edge[0], _target = edge[1])['weight'][0]:\n",
        "        min_flux = graph.es().select(_source = edge[0], _target = edge[1])['weight'][0]\n",
        "        min_edge = (edge[0], edge[1])\n",
        "\n",
        "    for edge in edges:\n",
        "      if edge == min_edge:\n",
        "        graph.delete_edges(edge)\n",
        "        graph.add_edge(source = edge[1], target = edge[0])\n",
        "        graph.es[-1]['weight'] = min_flux # Custo da menor fica negativo\n",
        "        continue\n",
        "      \n",
        "      wt_e = graph.es().select(_source = edge[0], _target = edge[1])['weight'][0]\n",
        "      graph.delete_edges(edge)\n",
        "      graph.add_edge(source = edge[0], target = edge[1])\n",
        "      graph.es[-1]['weight'] = wt_e - min_flux # Aresta de volta é negativa\n",
        "      graph.add_edge(source = edge[1], target = edge[0])\n",
        "      graph.es[-1]['weight'] = min_flux\n",
        "\n",
        "  cut = 0\n",
        "  incidents = graph.neighbors(target, mode=\"out\")\n",
        "  for v in incidents:\n",
        "    cut += graph.es().select(_source = target, _target = v)['weight'][0]\n",
        "\n",
        "  # Custo x distancia data\n",
        "  return cut"
      ],
      "metadata": {
        "id": "mr1D5Upwvh-r"
      },
      "execution_count": null,
      "outputs": []
    },
    {
      "cell_type": "code",
      "source": [
        "ford_fulkerson(graph, 0, 5)"
      ],
      "metadata": {
        "colab": {
          "base_uri": "https://localhost:8080/"
        },
        "id": "b8C1fRDVwMsv",
        "outputId": "aa577db4-5372-4fe6-87fb-e6d7fff4b2b7"
      },
      "execution_count": null,
      "outputs": [
        {
          "output_type": "execute_result",
          "data": {
            "text/plain": [
              "70"
            ]
          },
          "metadata": {},
          "execution_count": 69
        }
      ]
    },
    {
      "cell_type": "code",
      "source": [],
      "metadata": {
        "id": "TeOtqRIr0_Iq"
      },
      "execution_count": null,
      "outputs": []
    }
  ]
}