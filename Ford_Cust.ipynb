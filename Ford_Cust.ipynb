{
  "nbformat": 4,
  "nbformat_minor": 0,
  "metadata": {
    "colab": {
      "provenance": [],
      "collapsed_sections": []
    },
    "kernelspec": {
      "name": "python3",
      "display_name": "Python 3"
    },
    "language_info": {
      "name": "python"
    }
  },
  "cells": [
    {
      "cell_type": "code",
      "execution_count": 1,
      "metadata": {
        "id": "_Tmx-5OXleEu",
        "colab": {
          "base_uri": "https://localhost:8080/"
        },
        "outputId": "1fa0928a-28b4-442a-ec23-cfff2f03eb4f"
      },
      "outputs": [
        {
          "output_type": "stream",
          "name": "stdout",
          "text": [
            "Looking in indexes: https://pypi.org/simple, https://us-python.pkg.dev/colab-wheels/public/simple/\n",
            "Collecting igraph\n",
            "  Downloading igraph-0.10.2-cp37-cp37m-manylinux_2_17_x86_64.manylinux2014_x86_64.whl (3.2 MB)\n",
            "\u001b[K     |████████████████████████████████| 3.2 MB 7.0 MB/s \n",
            "\u001b[?25hCollecting texttable>=1.6.2\n",
            "  Downloading texttable-1.6.4-py2.py3-none-any.whl (10 kB)\n",
            "Installing collected packages: texttable, igraph\n",
            "Successfully installed igraph-0.10.2 texttable-1.6.4\n"
          ]
        }
      ],
      "source": [
        "!pip install igraph"
      ]
    },
    {
      "cell_type": "code",
      "source": [
        "import igraph as ig\n",
        "import matplotlib.pyplot as plt\n",
        "import numpy as np"
      ],
      "metadata": {
        "id": "_BJtx3Wp0sJN"
      },
      "execution_count": 2,
      "outputs": []
    },
    {
      "cell_type": "code",
      "source": [
        "graph = ig.Graph([(0,1),(0,3),(1,2),(2,5),(3,4),(3,2),(4,5)], directed = True)\n",
        "\n",
        "graph.es()['custo'] = [20,10,30,20,15,10,20]\n",
        "\n",
        "graph.es()['weight'] = [50,40,60,30,60,70,50]\n",
        "\n",
        "graph.vs()['nome'] = ['s', 'a', 'b', 'c', 'd','t']\n",
        "\n",
        "ig.plot(graph, target=plt.axes())\n",
        "plt.axis('off')\n",
        "plt.show()"
      ],
      "metadata": {
        "colab": {
          "base_uri": "https://localhost:8080/",
          "height": 248
        },
        "id": "1XKg7ZYW0t-f",
        "outputId": "efeacac4-f21f-4343-d349-067a9888d403"
      },
      "execution_count": 59,
      "outputs": [
        {
          "output_type": "display_data",
          "data": {
            "text/plain": [
              "<Figure size 432x288 with 1 Axes>"
            ],
            "image/png": "[encoded data removed]"
          },
          "metadata": {}
        }
      ]
    },
    {
      "cell_type": "code",
      "source": [
        "def bellman_ford(graph, initial):\n",
        "\n",
        "  nb_vertices = len(graph.vs)\n",
        "\n",
        "  rote = [0] * nb_vertices\n",
        "  dist = [np.inf] * nb_vertices\n",
        "  dist[initial] = 0\n",
        "\n",
        "  for edge in graph.es:\n",
        "    edge_weight = graph.es.select(_source=edge.source, _target=edge.target)['weight'][0]\n",
        "    if dist[edge.target] > dist[edge.source] + edge_weight:\n",
        "      dist[edge.target] = dist[edge.source] + edge_weight\n",
        "      rote[edge.target] = edge.source\n",
        "\n",
        "  return dist, rote\n",
        "  "
      ],
      "metadata": {
        "id": "voXkJy0W0x55"
      },
      "execution_count": 60,
      "outputs": []
    },
    {
      "cell_type": "code",
      "source": [
        "# Codigo ta bem triste ;-;\n",
        "# Mal otimizado e ordenado. Deve dar pra fazer esse algoritmo em muito menos linhas de código\n",
        "\n",
        "def ford_cust(f_graph, source, target):\n",
        "  graph = f_graph.copy()\n",
        "  while(True): \n",
        "    dist, rote = bellman_ford(graph, source) \n",
        "\n",
        "    if dist[target] == np.inf: break\n",
        "    \n",
        "    edges = list()\n",
        "    index = target\n",
        "    while(index != source):\n",
        "      edges.append((rote[index],index))\n",
        "      index = rote[index]\n",
        "\n",
        "    min_flux = np.inf; min_edge = tuple()\n",
        "    for edge in edges:\n",
        "      if min_flux > graph.es().select(_source = edge[0], _target = edge[1])['weight'][0]:\n",
        "        min_flux = graph.es().select(_source = edge[0], _target = edge[1])['weight'][0]\n",
        "        min_edge = (edge[0], edge[1])\n",
        "\n",
        "    for edge in edges:\n",
        "      if edge == min_edge:\n",
        "        ct_e = graph.es().select(_source = edge[0], _target = edge[1])['custo'][0]\n",
        "        graph.delete_edges(edge)\n",
        "        graph.add_edge(source = edge[1], target = edge[0])\n",
        "        graph.es[-1]['weight'] = -1 * min_flux * ct_e \n",
        "        graph.es[-1]['custo'] = ct_e\n",
        "        continue\n",
        "      \n",
        "      wt_e = graph.es().select(_source = edge[0], _target = edge[1])['weight'][0]\n",
        "      ct_e = graph.es().select(_source = edge[0], _target = edge[1])['custo'][0]\n",
        "      graph.delete_edges(edge)\n",
        "      graph.add_edge(source = edge[0], target = edge[1])\n",
        "      graph.es[-1]['weight'] = (wt_e - min_flux) * -1 * ct_e \n",
        "      graph.es[-1]['custo'] = ct_e\n",
        "      graph.add_edge(source = edge[1], target = edge[0])\n",
        "      graph.es[-1]['weight'] = min_flux * ct_e\n",
        "      graph.es[-1]['custo'] = ct_e\n",
        "\n",
        "  cut = 0\n",
        "  incidents = graph.neighbors(target, mode=\"out\")\n",
        "  for v in incidents:\n",
        "    cut += graph.es().select(_source = target, _target = v)['weight'][0]\n",
        "\n",
        "  # Custo x distancia data\n",
        "  return cut"
      ],
      "metadata": {
        "id": "1atMerDL0vfA"
      },
      "execution_count": 61,
      "outputs": []
    },
    {
      "cell_type": "code",
      "source": [
        "ford_cust(graph, 0, 5)"
      ],
      "metadata": {
        "colab": {
          "base_uri": "https://localhost:8080/"
        },
        "id": "DrQhhbd86MbN",
        "outputId": "4af92fa5-1029-4a2a-e1d8-98b2bc1e556c"
      },
      "execution_count": 62,
      "outputs": [
        {
          "output_type": "execute_result",
          "data": {
            "text/plain": [
              "200"
            ]
          },
          "metadata": {},
          "execution_count": 62
        }
      ]
    }
  ]
}